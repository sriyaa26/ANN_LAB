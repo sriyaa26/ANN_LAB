{
  "nbformat": 4,
  "nbformat_minor": 0,
  "metadata": {
    "colab": {
      "provenance": [],
      "authorship_tag": "ABX9TyMeJ8Q6pQ3xbyFaVWS3K30D",
      "include_colab_link": true
    },
    "kernelspec": {
      "name": "python3",
      "display_name": "Python 3"
    },
    "language_info": {
      "name": "python"
    }
  },
  "cells": [
    {
      "cell_type": "markdown",
      "metadata": {
        "id": "view-in-github",
        "colab_type": "text"
      },
      "source": [
        "<a href=\"https://colab.research.google.com/github/sriyaa26/ANN_LAB/blob/main/notebooks/hebbian.ipynb\" target=\"_parent\"><img src=\"https://colab.research.google.com/assets/colab-badge.svg\" alt=\"Open In Colab\"/></a>"
      ]
    },
    {
      "cell_type": "code",
      "execution_count": null,
      "metadata": {
        "colab": {
          "base_uri": "https://localhost:8080/"
        },
        "id": "il7UoxTcrtMS",
        "outputId": "bb604ef5-b16b-4c00-ba02-76c4997a95e9"
      },
      "outputs": [
        {
          "output_type": "stream",
          "name": "stdout",
          "text": [
            "Input:  [-1 -1], Output: -1.0\n",
            "Input:  [-1  1], Output: 1.0\n",
            "Input:  [ 1 -1], Output: -1.0\n",
            "Input:  [1 1], Output: 1.0\n",
            "weights after training [0. 4. 0.]\n"
          ]
        }
      ],
      "source": [
        "import numpy as np\n",
        "x=np.array([[-1,-1,1],\n",
        "           [-1,1,1],\n",
        "           [1,-1,1],\n",
        "           [1,1,1]\n",
        "            ])\n",
        "y=np.array([-1,1,-1,1])\n",
        "w=np.zeros(x.shape[1])\n",
        "def hebbian(x,y):\n",
        "  global w\n",
        "  for i in range(len(x)):\n",
        "    delta_weight=x[i]*y[i]\n",
        "    w=w+delta_weight\n",
        "hebbian(x,y)\n",
        "def test_net(x,w):\n",
        "  for i in range(len(x)):\n",
        "      output=np.sign(np.dot(x[i],w))\n",
        "      print(f\"Input:  {x[i][:2]}, Output: {output}\")\n",
        "test_net(x,w)\n",
        "print(\"weights after training\",w)\n",
        "\n",
        "\n"
      ]
    }
  ]
}